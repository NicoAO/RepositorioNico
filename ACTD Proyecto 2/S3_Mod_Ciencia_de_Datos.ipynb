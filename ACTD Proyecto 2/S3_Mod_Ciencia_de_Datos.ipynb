{
 "cells": [
  {
   "cell_type": "markdown",
   "metadata": {},
   "source": [
    "## Tarea 4 - Modelamiento\n",
    "### Cargo: Ciencia de Datos: Nicolas Alvarez Ortiz"
   ]
  },
  {
   "cell_type": "code",
   "execution_count": 112,
   "metadata": {},
   "outputs": [],
   "source": [
    "from sklearn.model_selection import train_test_split\n",
    "from sklearn.preprocessing import LabelEncoder\n",
    "from sklearn.metrics import accuracy_score, confusion_matrix, classification_report"
   ]
  },
  {
   "cell_type": "code",
   "execution_count": 113,
   "metadata": {},
   "outputs": [],
   "source": [
    "import pandas as pd\n",
    "credit = pd.read_csv(\"datosproyecto2\")\n"
   ]
  },
  {
   "cell_type": "code",
   "execution_count": 107,
   "metadata": {},
   "outputs": [
    {
     "data": {
      "text/html": [
       "<div>\n",
       "<style scoped>\n",
       "    .dataframe tbody tr th:only-of-type {\n",
       "        vertical-align: middle;\n",
       "    }\n",
       "\n",
       "    .dataframe tbody tr th {\n",
       "        vertical-align: top;\n",
       "    }\n",
       "\n",
       "    .dataframe thead th {\n",
       "        text-align: right;\n",
       "    }\n",
       "</style>\n",
       "<table border=\"1\" class=\"dataframe\">\n",
       "  <thead>\n",
       "    <tr style=\"text-align: right;\">\n",
       "      <th></th>\n",
       "      <th>Unnamed: 0</th>\n",
       "      <th>ID</th>\n",
       "      <th>LIMIT_BAL</th>\n",
       "      <th>SEX</th>\n",
       "      <th>EDUCATION</th>\n",
       "      <th>MARRIAGE</th>\n",
       "      <th>AGE</th>\n",
       "      <th>PAY_0</th>\n",
       "      <th>PAY_2</th>\n",
       "      <th>PAY_3</th>\n",
       "      <th>...</th>\n",
       "      <th>BILL_AMT4</th>\n",
       "      <th>BILL_AMT5</th>\n",
       "      <th>BILL_AMT6</th>\n",
       "      <th>PAY_AMT1</th>\n",
       "      <th>PAY_AMT2</th>\n",
       "      <th>PAY_AMT3</th>\n",
       "      <th>PAY_AMT4</th>\n",
       "      <th>PAY_AMT5</th>\n",
       "      <th>PAY_AMT6</th>\n",
       "      <th>default payment next month</th>\n",
       "    </tr>\n",
       "  </thead>\n",
       "  <tbody>\n",
       "    <tr>\n",
       "      <th>2</th>\n",
       "      <td>2</td>\n",
       "      <td>3</td>\n",
       "      <td>90000</td>\n",
       "      <td>2</td>\n",
       "      <td>2</td>\n",
       "      <td>2</td>\n",
       "      <td>34</td>\n",
       "      <td>0</td>\n",
       "      <td>0</td>\n",
       "      <td>0</td>\n",
       "      <td>...</td>\n",
       "      <td>14331</td>\n",
       "      <td>14948</td>\n",
       "      <td>15549</td>\n",
       "      <td>1518</td>\n",
       "      <td>1500</td>\n",
       "      <td>1000</td>\n",
       "      <td>1000</td>\n",
       "      <td>1000</td>\n",
       "      <td>5000</td>\n",
       "      <td>0</td>\n",
       "    </tr>\n",
       "    <tr>\n",
       "      <th>3</th>\n",
       "      <td>3</td>\n",
       "      <td>4</td>\n",
       "      <td>50000</td>\n",
       "      <td>2</td>\n",
       "      <td>2</td>\n",
       "      <td>1</td>\n",
       "      <td>37</td>\n",
       "      <td>0</td>\n",
       "      <td>0</td>\n",
       "      <td>0</td>\n",
       "      <td>...</td>\n",
       "      <td>28314</td>\n",
       "      <td>28959</td>\n",
       "      <td>29547</td>\n",
       "      <td>2000</td>\n",
       "      <td>2019</td>\n",
       "      <td>1200</td>\n",
       "      <td>1100</td>\n",
       "      <td>1069</td>\n",
       "      <td>1000</td>\n",
       "      <td>0</td>\n",
       "    </tr>\n",
       "    <tr>\n",
       "      <th>4</th>\n",
       "      <td>4</td>\n",
       "      <td>5</td>\n",
       "      <td>50000</td>\n",
       "      <td>1</td>\n",
       "      <td>2</td>\n",
       "      <td>1</td>\n",
       "      <td>57</td>\n",
       "      <td>-1</td>\n",
       "      <td>0</td>\n",
       "      <td>-1</td>\n",
       "      <td>...</td>\n",
       "      <td>20940</td>\n",
       "      <td>19146</td>\n",
       "      <td>19131</td>\n",
       "      <td>2000</td>\n",
       "      <td>36681</td>\n",
       "      <td>10000</td>\n",
       "      <td>9000</td>\n",
       "      <td>689</td>\n",
       "      <td>679</td>\n",
       "      <td>0</td>\n",
       "    </tr>\n",
       "    <tr>\n",
       "      <th>5</th>\n",
       "      <td>5</td>\n",
       "      <td>6</td>\n",
       "      <td>50000</td>\n",
       "      <td>1</td>\n",
       "      <td>1</td>\n",
       "      <td>2</td>\n",
       "      <td>37</td>\n",
       "      <td>0</td>\n",
       "      <td>0</td>\n",
       "      <td>0</td>\n",
       "      <td>...</td>\n",
       "      <td>19394</td>\n",
       "      <td>19619</td>\n",
       "      <td>20024</td>\n",
       "      <td>2500</td>\n",
       "      <td>1815</td>\n",
       "      <td>657</td>\n",
       "      <td>1000</td>\n",
       "      <td>1000</td>\n",
       "      <td>800</td>\n",
       "      <td>0</td>\n",
       "    </tr>\n",
       "    <tr>\n",
       "      <th>6</th>\n",
       "      <td>6</td>\n",
       "      <td>7</td>\n",
       "      <td>500000</td>\n",
       "      <td>1</td>\n",
       "      <td>1</td>\n",
       "      <td>2</td>\n",
       "      <td>29</td>\n",
       "      <td>0</td>\n",
       "      <td>0</td>\n",
       "      <td>0</td>\n",
       "      <td>...</td>\n",
       "      <td>542653</td>\n",
       "      <td>483003</td>\n",
       "      <td>473944</td>\n",
       "      <td>55000</td>\n",
       "      <td>40000</td>\n",
       "      <td>38000</td>\n",
       "      <td>20239</td>\n",
       "      <td>13750</td>\n",
       "      <td>13770</td>\n",
       "      <td>0</td>\n",
       "    </tr>\n",
       "  </tbody>\n",
       "</table>\n",
       "<p>5 rows × 26 columns</p>\n",
       "</div>"
      ],
      "text/plain": [
       "   Unnamed: 0  ID  LIMIT_BAL  SEX  EDUCATION  MARRIAGE  AGE  PAY_0  PAY_2  \\\n",
       "2           2   3      90000    2          2         2   34      0      0   \n",
       "3           3   4      50000    2          2         1   37      0      0   \n",
       "4           4   5      50000    1          2         1   57     -1      0   \n",
       "5           5   6      50000    1          1         2   37      0      0   \n",
       "6           6   7     500000    1          1         2   29      0      0   \n",
       "\n",
       "   PAY_3  ...  BILL_AMT4  BILL_AMT5  BILL_AMT6  PAY_AMT1  PAY_AMT2  PAY_AMT3  \\\n",
       "2      0  ...      14331      14948      15549      1518      1500      1000   \n",
       "3      0  ...      28314      28959      29547      2000      2019      1200   \n",
       "4     -1  ...      20940      19146      19131      2000     36681     10000   \n",
       "5      0  ...      19394      19619      20024      2500      1815       657   \n",
       "6      0  ...     542653     483003     473944     55000     40000     38000   \n",
       "\n",
       "   PAY_AMT4  PAY_AMT5  PAY_AMT6  default payment next month  \n",
       "2      1000      1000      5000                           0  \n",
       "3      1100      1069      1000                           0  \n",
       "4      9000       689       679                           0  \n",
       "5      1000      1000       800                           0  \n",
       "6     20239     13750     13770                           0  \n",
       "\n",
       "[5 rows x 26 columns]"
      ]
     },
     "execution_count": 107,
     "metadata": {},
     "output_type": "execute_result"
    }
   ],
   "source": [
    "credit[credit[\"default payment next month\"] == 1] #6636\n",
    "credit[credit[\"default payment next month\"] == 0].head() #23364"
   ]
  },
  {
   "cell_type": "markdown",
   "metadata": {},
   "source": [
    "¡OBSERVAMOS UN DESBALANCE EN LAS CLASES! \\\n",
    "Generamos nuestros vectores X & Y"
   ]
  },
  {
   "cell_type": "code",
   "execution_count": 114,
   "metadata": {},
   "outputs": [],
   "source": [
    "X = credit.iloc[:,1:25]\n",
    "y = credit[\"default payment next month\"]"
   ]
  },
  {
   "cell_type": "markdown",
   "metadata": {},
   "source": [
    "Realizamos un modelo utilizando sklearn y le aplicamos sobremuestreo a la data para balancear las clases."
   ]
  },
  {
   "cell_type": "code",
   "execution_count": 116,
   "metadata": {},
   "outputs": [
    {
     "name": "stdout",
     "output_type": "stream",
     "text": [
      "0.75972\n"
     ]
    }
   ],
   "source": [
    "#--------------------------------------------------------------\n",
    "# Modelo con sklearn\n",
    "#-------------------------------------------------------------- \n",
    "from sklearn.model_selection import train_test_split\n",
    "from sklearn.neural_network import MLPClassifier\n",
    "from sklearn.pipeline import make_pipeline\n",
    "from sklearn.preprocessing import StandardScaler\n",
    "from imblearn.over_sampling import RandomOverSampler\n",
    "\n",
    "X_train_full, X_test, y_train_full, y_test = train_test_split(\n",
    "    X, y, test_size=0.4, random_state=42)\n",
    "X_train, X_valid, y_train, y_valid = train_test_split(\n",
    "    X_train_full, y_train_full, test_size=0.4, random_state=42)\n",
    "# Aplicar sobremuestreo \n",
    "ros = RandomOverSampler(random_state=42)\n",
    "X_train_resampled, y_train_resampled = ros.fit_resample(X_train, y_train)\n",
    "mlp_clf = MLPClassifier(hidden_layer_sizes=[5], max_iter=1000, random_state=42)\n",
    "pipeline = make_pipeline(StandardScaler(), mlp_clf)\n",
    "pipeline.fit(X_train_resampled, y_train_resampled)\n",
    "accuracy = pipeline.score(X_valid, y_valid)\n",
    "print(round(accuracy,5))"
   ]
  },
  {
   "cell_type": "code",
   "execution_count": 127,
   "metadata": {},
   "outputs": [
    {
     "data": {
      "text/plain": [
       "['modelo.joblib']"
      ]
     },
     "execution_count": 127,
     "metadata": {},
     "output_type": "execute_result"
    }
   ],
   "source": [
    "from joblib import dump\n",
    "dump(mlp_clf, 'modelo.joblib')"
   ]
  },
  {
   "cell_type": "markdown",
   "metadata": {},
   "source": [
    "Generamos un reporte para evaluar las métricas del modelo"
   ]
  },
  {
   "cell_type": "code",
   "execution_count": 117,
   "metadata": {},
   "outputs": [
    {
     "name": "stdout",
     "output_type": "stream",
     "text": [
      "Classification Report:\n",
      "               precision    recall  f1-score   support\n",
      "\n",
      "           0       0.80      0.70      0.75      9357\n",
      "           1       0.27      0.39      0.32      2643\n",
      "\n",
      "    accuracy                           0.63     12000\n",
      "   macro avg       0.53      0.54      0.53     12000\n",
      "weighted avg       0.68      0.63      0.65     12000\n",
      "\n"
     ]
    },
    {
     "name": "stderr",
     "output_type": "stream",
     "text": [
      "c:\\Users\\Admin\\AppData\\Local\\Programs\\Python\\Python311\\Lib\\site-packages\\sklearn\\base.py:486: UserWarning: X has feature names, but MLPClassifier was fitted without feature names\n",
      "  warnings.warn(\n"
     ]
    }
   ],
   "source": [
    "y_pred = mlp_clf.predict(X_test)\n",
    "class_report = classification_report(y_test, y_pred)\n",
    "print(\"Classification Report:\\n\", class_report)"
   ]
  },
  {
   "cell_type": "markdown",
   "metadata": {},
   "source": [
    "Graficamos la matriz de consufión del modelo (con sklearn)"
   ]
  },
  {
   "cell_type": "code",
   "execution_count": 111,
   "metadata": {},
   "outputs": [
    {
     "name": "stderr",
     "output_type": "stream",
     "text": [
      "c:\\Users\\Admin\\AppData\\Local\\Programs\\Python\\Python311\\Lib\\site-packages\\sklearn\\base.py:486: UserWarning: X has feature names, but MLPClassifier was fitted without feature names\n",
      "  warnings.warn(\n"
     ]
    },
    {
     "data": {
      "image/png": "[encoded data removed]",
      "text/plain": [
       "<Figure size 640x480 with 2 Axes>"
      ]
     },
     "metadata": {},
     "output_type": "display_data"
    }
   ],
   "source": [
    "from sklearn.metrics import confusion_matrix\n",
    "import seaborn as sns\n",
    "import matplotlib.pyplot as plt\n",
    "model_predictions1 = mlp_clf.predict(X_test)\n",
    "confusion_matrix = confusion_matrix(y_test, model_predictions1)\n",
    "\n",
    "# Plot confusion matrix\n",
    "sns.set(font_scale=1.4)  # for label size\n",
    "sns.heatmap(confusion_matrix, annot=True, annot_kws={\"size\": 16}, cmap=\"Blues\", fmt=\"g\")  # font size\n",
    "plt.xlabel('Predicted labels')\n",
    "plt.ylabel('True labels')\n",
    "plt.title('Confusion Matrix del modelo sklearn')\n",
    "plt.show()"
   ]
  },
  {
   "cell_type": "markdown",
   "metadata": {},
   "source": [
    "### Oversampling vs Undersampling"
   ]
  },
  {
   "cell_type": "markdown",
   "metadata": {},
   "source": [
    "Evaluamos undersampling (que suele ser mejor alternativa) para comparar cuál es mejor en este caso particular"
   ]
  },
  {
   "cell_type": "code",
   "execution_count": 91,
   "metadata": {},
   "outputs": [
    {
     "name": "stdout",
     "output_type": "stream",
     "text": [
      "0.7597222222222222 0.75375\n",
      "Concluimos que el método de oversampling tiene una mayor precisión que el método de undersampling.\n"
     ]
    }
   ],
   "source": [
    "from sklearn.model_selection import train_test_split\n",
    "from sklearn.neural_network import MLPClassifier\n",
    "from sklearn.pipeline import make_pipeline\n",
    "from sklearn.preprocessing import StandardScaler\n",
    "from imblearn.over_sampling import RandomOverSampler\n",
    "from imblearn.under_sampling import RandomUnderSampler\n",
    "\n",
    "X_train_full, X_test, y_train_full, y_test = train_test_split(\n",
    "    X, y, test_size=0.4, random_state=42)\n",
    "X_train, X_valid, y_train, y_valid = train_test_split(\n",
    "    X_train_full, y_train_full, test_size=0.4, random_state=42)\n",
    "# Aplicar oversampling a la clase pequeña\n",
    "ros = RandomOverSampler(random_state=42)\n",
    "X_train_resampled, y_train_resampled = ros.fit_resample(X_train, y_train)\n",
    "# Aplicar undersampling a la clase pequeña for comparison\n",
    "rus = RandomUnderSampler(random_state=42)\n",
    "X_train_resampled_under, y_train_resampled_under = rus.fit_resample(X_train, y_train)\n",
    "\n",
    "mlp_clf = MLPClassifier(hidden_layer_sizes=[5], max_iter=1000, random_state=42)\n",
    "pipeline = make_pipeline(StandardScaler(), mlp_clf)\n",
    "pipeline.fit(X_train_resampled, y_train_resampled)\n",
    "accuracy_oversampled = pipeline.score(X_valid, y_valid)\n",
    "\n",
    "pipeline.fit(X_train_resampled_under, y_train_resampled_under)\n",
    "accuracy_undersampled = pipeline.score(X_valid, y_valid)\n",
    "\n",
    "print(accuracy_oversampled, accuracy_undersampled)\n",
    "print(\"Concluimos que el método de oversampling tiene una mayor precisión que el método de undersampling.\")\n"
   ]
  },
  {
   "cell_type": "markdown",
   "metadata": {},
   "source": [
    "SMOTE  y ADASYN son otras alternativas para tratar con bases desbalanceadas, por lo que evaluaremos su desempeño"
   ]
  },
  {
   "cell_type": "code",
   "execution_count": 92,
   "metadata": {},
   "outputs": [
    {
     "data": {
      "text/plain": [
       "{'RandomOverSampler': 0.7597222222222222,\n",
       " 'SMOTE': 0.7323611111111111,\n",
       " 'ADASYN': 0.7281944444444445}"
      ]
     },
     "execution_count": 92,
     "metadata": {},
     "output_type": "execute_result"
    }
   ],
   "source": [
    "from imblearn.over_sampling import RandomOverSampler\n",
    "from imblearn.over_sampling import SMOTE\n",
    "from imblearn.over_sampling import ADASYN\n",
    "from sklearn.model_selection import train_test_split\n",
    "from sklearn.neural_network import MLPClassifier\n",
    "from sklearn.pipeline import make_pipeline\n",
    "from sklearn.preprocessing import StandardScaler\n",
    "from sklearn.metrics import accuracy_score\n",
    "X_train_full, X_test, y_train_full, y_test = train_test_split(\n",
    "    X, y, test_size=0.4, random_state=42)\n",
    "X_train, X_valid, y_train, y_valid = train_test_split(\n",
    "    X_train_full, y_train_full, test_size=0.4, random_state=42)\n",
    "resampling_techniques = {\n",
    "    'RandomOverSampler': RandomOverSampler(random_state=42),\n",
    "    'SMOTE': SMOTE(random_state=42),\n",
    "    'ADASYN': ADASYN(random_state=42)\n",
    "}\n",
    "results = {}\n",
    "for name, resampler in resampling_techniques.items():\n",
    "    X_train_resampled, y_train_resampled = resampler.fit_resample(X_train, y_train)\n",
    "    mlp_clf = MLPClassifier(hidden_layer_sizes=[5], max_iter=1000, random_state=42)\n",
    "    pipeline = make_pipeline(StandardScaler(), mlp_clf)\n",
    "    pipeline.fit(X_train_resampled, y_train_resampled)\n",
    "    y_pred = pipeline.predict(X_valid)\n",
    "    accuracy = accuracy_score(y_valid, y_pred)\n",
    "    results[name] = accuracy\n",
    "results\n"
   ]
  },
  {
   "cell_type": "markdown",
   "metadata": {},
   "source": [
    "### Otro modelo usando Keras y tensorflow"
   ]
  },
  {
   "cell_type": "code",
   "execution_count": 93,
   "metadata": {},
   "outputs": [
    {
     "name": "stdout",
     "output_type": "stream",
     "text": [
      "Epoch 1/100\n",
      "527/527 [==============================] - 5s 7ms/step - loss: 0.4984 - accuracy: 0.4998 - val_loss: 0.4998 - val_accuracy: 0.7753\n",
      "Epoch 2/100\n",
      "527/527 [==============================] - 4s 8ms/step - loss: 0.4999 - accuracy: 0.5000 - val_loss: 0.4998 - val_accuracy: 0.7753\n",
      "Epoch 3/100\n",
      "527/527 [==============================] - 4s 7ms/step - loss: 0.4999 - accuracy: 0.5000 - val_loss: 0.4998 - val_accuracy: 0.7753\n",
      "Epoch 4/100\n",
      "527/527 [==============================] - 3s 7ms/step - loss: 0.4999 - accuracy: 0.5000 - val_loss: 0.4998 - val_accuracy: 0.7753\n",
      "Epoch 5/100\n",
      "527/527 [==============================] - 3s 6ms/step - loss: 0.4999 - accuracy: 0.5000 - val_loss: 0.4998 - val_accuracy: 0.7753\n",
      "Epoch 6/100\n",
      "527/527 [==============================] - 5s 9ms/step - loss: 0.4999 - accuracy: 0.5000 - val_loss: 0.4998 - val_accuracy: 0.7753\n",
      "Epoch 7/100\n",
      "527/527 [==============================] - 5s 9ms/step - loss: 0.4999 - accuracy: 0.5000 - val_loss: 0.4998 - val_accuracy: 0.7753\n",
      "Epoch 8/100\n",
      "527/527 [==============================] - 5s 10ms/step - loss: 0.4999 - accuracy: 0.5000 - val_loss: 0.4998 - val_accuracy: 0.7753\n",
      "Epoch 9/100\n",
      "527/527 [==============================] - 4s 8ms/step - loss: 0.4999 - accuracy: 0.5000 - val_loss: 0.4998 - val_accuracy: 0.7753\n",
      "Epoch 10/100\n",
      "527/527 [==============================] - 5s 9ms/step - loss: 0.4999 - accuracy: 0.5000 - val_loss: 0.4998 - val_accuracy: 0.7753\n",
      "Epoch 11/100\n",
      "527/527 [==============================] - 5s 9ms/step - loss: 0.4999 - accuracy: 0.5000 - val_loss: 0.4998 - val_accuracy: 0.7753\n",
      "Epoch 12/100\n",
      "527/527 [==============================] - 5s 10ms/step - loss: 0.4999 - accuracy: 0.5000 - val_loss: 0.4998 - val_accuracy: 0.7753\n",
      "Epoch 13/100\n",
      "527/527 [==============================] - 5s 9ms/step - loss: 0.4999 - accuracy: 0.5000 - val_loss: 0.4998 - val_accuracy: 0.7753\n",
      "Epoch 14/100\n",
      "527/527 [==============================] - 5s 9ms/step - loss: 0.4999 - accuracy: 0.5000 - val_loss: 0.4998 - val_accuracy: 0.7753\n",
      "Epoch 15/100\n",
      "527/527 [==============================] - 5s 10ms/step - loss: 0.4999 - accuracy: 0.5000 - val_loss: 0.4998 - val_accuracy: 0.7753\n",
      "Epoch 16/100\n",
      "527/527 [==============================] - 5s 9ms/step - loss: 0.4999 - accuracy: 0.5000 - val_loss: 0.4998 - val_accuracy: 0.7753\n",
      "Epoch 17/100\n",
      "527/527 [==============================] - 5s 9ms/step - loss: 0.4999 - accuracy: 0.5000 - val_loss: 0.4998 - val_accuracy: 0.7753\n",
      "Epoch 18/100\n",
      "527/527 [==============================] - 5s 9ms/step - loss: 0.4999 - accuracy: 0.5000 - val_loss: 0.4998 - val_accuracy: 0.7753\n",
      "Epoch 19/100\n",
      "527/527 [==============================] - 2s 4ms/step - loss: 0.4999 - accuracy: 0.5000 - val_loss: 0.4998 - val_accuracy: 0.7753\n",
      "Epoch 20/100\n",
      "527/527 [==============================] - 3s 7ms/step - loss: 0.4999 - accuracy: 0.5000 - val_loss: 0.4998 - val_accuracy: 0.7753\n",
      "Epoch 21/100\n",
      "527/527 [==============================] - 5s 9ms/step - loss: 0.4999 - accuracy: 0.5000 - val_loss: 0.4998 - val_accuracy: 0.7753\n",
      "Epoch 22/100\n",
      "527/527 [==============================] - 4s 8ms/step - loss: 0.4999 - accuracy: 0.5000 - val_loss: 0.4998 - val_accuracy: 0.7753\n",
      "Epoch 23/100\n",
      "527/527 [==============================] - 5s 9ms/step - loss: 0.4999 - accuracy: 0.5000 - val_loss: 0.4998 - val_accuracy: 0.7753\n",
      "Epoch 24/100\n",
      "527/527 [==============================] - 4s 8ms/step - loss: 0.4999 - accuracy: 0.5000 - val_loss: 0.4998 - val_accuracy: 0.7753\n",
      "Epoch 25/100\n",
      "527/527 [==============================] - 4s 8ms/step - loss: 0.4999 - accuracy: 0.5000 - val_loss: 0.4998 - val_accuracy: 0.7753\n",
      "Epoch 26/100\n",
      "527/527 [==============================] - 3s 7ms/step - loss: 0.4999 - accuracy: 0.5000 - val_loss: 0.4998 - val_accuracy: 0.7753\n",
      "Epoch 27/100\n",
      "527/527 [==============================] - 3s 5ms/step - loss: 0.4999 - accuracy: 0.5000 - val_loss: 0.4998 - val_accuracy: 0.7753\n",
      "Epoch 28/100\n",
      "527/527 [==============================] - 4s 7ms/step - loss: 0.4999 - accuracy: 0.5000 - val_loss: 0.4998 - val_accuracy: 0.7753\n",
      "Epoch 29/100\n",
      "527/527 [==============================] - 4s 7ms/step - loss: 0.4999 - accuracy: 0.5000 - val_loss: 0.4998 - val_accuracy: 0.7753\n",
      "Epoch 30/100\n",
      "527/527 [==============================] - 4s 8ms/step - loss: 0.4999 - accuracy: 0.5000 - val_loss: 0.4998 - val_accuracy: 0.7753\n",
      "Epoch 31/100\n",
      "527/527 [==============================] - 4s 8ms/step - loss: 0.4999 - accuracy: 0.5000 - val_loss: 0.4998 - val_accuracy: 0.7753\n",
      "Epoch 32/100\n",
      "527/527 [==============================] - 3s 6ms/step - loss: 0.4999 - accuracy: 0.5000 - val_loss: 0.4998 - val_accuracy: 0.7753\n",
      "Epoch 33/100\n",
      "527/527 [==============================] - 3s 7ms/step - loss: 0.4999 - accuracy: 0.5000 - val_loss: 0.4998 - val_accuracy: 0.7753\n",
      "Epoch 34/100\n",
      "527/527 [==============================] - 3s 6ms/step - loss: 0.4999 - accuracy: 0.5000 - val_loss: 0.4998 - val_accuracy: 0.7753\n",
      "Epoch 35/100\n",
      "527/527 [==============================] - 4s 7ms/step - loss: 0.4999 - accuracy: 0.5000 - val_loss: 0.4998 - val_accuracy: 0.7753\n",
      "Epoch 36/100\n",
      "527/527 [==============================] - 4s 8ms/step - loss: 0.4999 - accuracy: 0.5000 - val_loss: 0.4998 - val_accuracy: 0.7753\n",
      "Epoch 37/100\n",
      "527/527 [==============================] - 3s 6ms/step - loss: 0.4999 - accuracy: 0.5000 - val_loss: 0.4998 - val_accuracy: 0.7753\n",
      "Epoch 38/100\n",
      "527/527 [==============================] - 2s 4ms/step - loss: 0.4999 - accuracy: 0.5000 - val_loss: 0.4998 - val_accuracy: 0.7753\n",
      "Epoch 39/100\n",
      "527/527 [==============================] - 2s 4ms/step - loss: 0.4999 - accuracy: 0.5000 - val_loss: 0.4998 - val_accuracy: 0.7753\n",
      "Epoch 40/100\n",
      "527/527 [==============================] - 2s 5ms/step - loss: 0.4999 - accuracy: 0.5000 - val_loss: 0.4998 - val_accuracy: 0.7753\n",
      "Epoch 41/100\n",
      "527/527 [==============================] - 3s 7ms/step - loss: 0.4999 - accuracy: 0.5000 - val_loss: 0.4998 - val_accuracy: 0.7753\n",
      "Epoch 42/100\n",
      "527/527 [==============================] - 4s 8ms/step - loss: 0.4999 - accuracy: 0.5000 - val_loss: 0.4998 - val_accuracy: 0.7753\n",
      "Epoch 43/100\n",
      "527/527 [==============================] - 4s 7ms/step - loss: 0.4999 - accuracy: 0.5000 - val_loss: 0.4998 - val_accuracy: 0.7753\n",
      "Epoch 44/100\n",
      "527/527 [==============================] - 4s 8ms/step - loss: 0.4999 - accuracy: 0.5000 - val_loss: 0.4998 - val_accuracy: 0.7753\n",
      "Epoch 45/100\n",
      "527/527 [==============================] - 4s 7ms/step - loss: 0.4999 - accuracy: 0.5000 - val_loss: 0.4998 - val_accuracy: 0.7753\n",
      "Epoch 46/100\n",
      "527/527 [==============================] - 2s 5ms/step - loss: 0.4999 - accuracy: 0.5000 - val_loss: 0.4998 - val_accuracy: 0.7753\n",
      "Epoch 47/100\n",
      "527/527 [==============================] - 2s 5ms/step - loss: 0.4999 - accuracy: 0.5000 - val_loss: 0.4998 - val_accuracy: 0.7753\n",
      "Epoch 48/100\n",
      "527/527 [==============================] - 3s 5ms/step - loss: 0.4999 - accuracy: 0.5000 - val_loss: 0.4998 - val_accuracy: 0.7753\n",
      "Epoch 49/100\n",
      "527/527 [==============================] - 4s 8ms/step - loss: 0.4999 - accuracy: 0.5000 - val_loss: 0.4998 - val_accuracy: 0.7753\n",
      "Epoch 50/100\n",
      "527/527 [==============================] - 4s 8ms/step - loss: 0.4999 - accuracy: 0.5000 - val_loss: 0.4998 - val_accuracy: 0.7753\n",
      "Epoch 51/100\n",
      "527/527 [==============================] - 4s 7ms/step - loss: 0.4999 - accuracy: 0.5000 - val_loss: 0.4998 - val_accuracy: 0.7753\n",
      "Epoch 52/100\n",
      "527/527 [==============================] - 3s 6ms/step - loss: 0.4999 - accuracy: 0.5000 - val_loss: 0.4998 - val_accuracy: 0.7753\n",
      "Epoch 53/100\n",
      "527/527 [==============================] - 3s 7ms/step - loss: 0.4999 - accuracy: 0.5000 - val_loss: 0.4998 - val_accuracy: 0.7753\n",
      "Epoch 54/100\n",
      "527/527 [==============================] - 3s 6ms/step - loss: 0.4999 - accuracy: 0.5000 - val_loss: 0.4998 - val_accuracy: 0.7753\n",
      "Epoch 55/100\n",
      "527/527 [==============================] - 3s 6ms/step - loss: 0.4999 - accuracy: 0.5000 - val_loss: 0.4998 - val_accuracy: 0.7753\n",
      "Epoch 56/100\n",
      "527/527 [==============================] - 4s 8ms/step - loss: 0.4999 - accuracy: 0.5000 - val_loss: 0.4998 - val_accuracy: 0.7753\n",
      "Epoch 57/100\n",
      "527/527 [==============================] - 4s 8ms/step - loss: 0.4999 - accuracy: 0.5000 - val_loss: 0.4998 - val_accuracy: 0.7753\n",
      "Epoch 58/100\n",
      "527/527 [==============================] - 4s 8ms/step - loss: 0.4999 - accuracy: 0.5000 - val_loss: 0.4998 - val_accuracy: 0.7753\n",
      "Epoch 59/100\n",
      "527/527 [==============================] - 3s 6ms/step - loss: 0.4999 - accuracy: 0.5000 - val_loss: 0.4998 - val_accuracy: 0.7753\n",
      "Epoch 60/100\n",
      "527/527 [==============================] - 4s 8ms/step - loss: 0.4999 - accuracy: 0.5000 - val_loss: 0.4998 - val_accuracy: 0.7753\n",
      "Epoch 61/100\n",
      "527/527 [==============================] - 4s 7ms/step - loss: 0.4999 - accuracy: 0.5000 - val_loss: 0.4998 - val_accuracy: 0.7753\n",
      "Epoch 62/100\n",
      "527/527 [==============================] - 4s 8ms/step - loss: 0.4999 - accuracy: 0.5000 - val_loss: 0.4998 - val_accuracy: 0.7753\n",
      "Epoch 63/100\n",
      "527/527 [==============================] - 4s 7ms/step - loss: 0.4999 - accuracy: 0.5000 - val_loss: 0.4998 - val_accuracy: 0.7753\n",
      "Epoch 64/100\n",
      "527/527 [==============================] - 2s 5ms/step - loss: 0.4999 - accuracy: 0.5000 - val_loss: 0.4998 - val_accuracy: 0.7753\n",
      "Epoch 65/100\n",
      "527/527 [==============================] - 3s 6ms/step - loss: 0.4999 - accuracy: 0.5000 - val_loss: 0.4998 - val_accuracy: 0.7753\n",
      "Epoch 66/100\n",
      "527/527 [==============================] - 3s 5ms/step - loss: 0.4999 - accuracy: 0.5000 - val_loss: 0.4998 - val_accuracy: 0.7753\n",
      "Epoch 67/100\n",
      "527/527 [==============================] - 4s 7ms/step - loss: 0.4999 - accuracy: 0.5000 - val_loss: 0.4998 - val_accuracy: 0.7753\n",
      "Epoch 68/100\n",
      "527/527 [==============================] - 3s 7ms/step - loss: 0.4999 - accuracy: 0.5000 - val_loss: 0.4998 - val_accuracy: 0.7753\n",
      "Epoch 69/100\n",
      "527/527 [==============================] - 3s 5ms/step - loss: 0.4999 - accuracy: 0.5000 - val_loss: 0.4998 - val_accuracy: 0.7753\n",
      "Epoch 70/100\n",
      "527/527 [==============================] - 4s 7ms/step - loss: 0.4999 - accuracy: 0.5000 - val_loss: 0.4998 - val_accuracy: 0.7753\n",
      "Epoch 71/100\n",
      "527/527 [==============================] - 4s 8ms/step - loss: 0.4999 - accuracy: 0.5000 - val_loss: 0.4998 - val_accuracy: 0.7753\n",
      "Epoch 72/100\n",
      "527/527 [==============================] - 4s 7ms/step - loss: 0.4999 - accuracy: 0.5000 - val_loss: 0.4998 - val_accuracy: 0.7753\n",
      "Epoch 73/100\n",
      "527/527 [==============================] - 4s 7ms/step - loss: 0.4999 - accuracy: 0.5000 - val_loss: 0.4998 - val_accuracy: 0.7753\n",
      "Epoch 74/100\n",
      "527/527 [==============================] - 3s 6ms/step - loss: 0.4999 - accuracy: 0.5000 - val_loss: 0.4998 - val_accuracy: 0.7753\n",
      "Epoch 75/100\n",
      "527/527 [==============================] - 3s 5ms/step - loss: 0.4999 - accuracy: 0.5000 - val_loss: 0.4998 - val_accuracy: 0.7753\n",
      "Epoch 76/100\n",
      "527/527 [==============================] - 3s 6ms/step - loss: 0.4999 - accuracy: 0.5000 - val_loss: 0.4998 - val_accuracy: 0.7753\n",
      "Epoch 77/100\n",
      "527/527 [==============================] - 3s 5ms/step - loss: 0.4999 - accuracy: 0.5000 - val_loss: 0.4998 - val_accuracy: 0.7753\n",
      "Epoch 78/100\n",
      "527/527 [==============================] - 3s 7ms/step - loss: 0.4999 - accuracy: 0.5000 - val_loss: 0.4998 - val_accuracy: 0.7753\n",
      "Epoch 79/100\n",
      "527/527 [==============================] - 3s 7ms/step - loss: 0.4999 - accuracy: 0.5000 - val_loss: 0.4998 - val_accuracy: 0.7753\n",
      "Epoch 80/100\n",
      "527/527 [==============================] - 3s 5ms/step - loss: 0.4999 - accuracy: 0.5000 - val_loss: 0.4998 - val_accuracy: 0.7753\n",
      "Epoch 81/100\n",
      "527/527 [==============================] - 4s 7ms/step - loss: 0.4999 - accuracy: 0.5000 - val_loss: 0.4998 - val_accuracy: 0.7753\n",
      "Epoch 82/100\n",
      "527/527 [==============================] - 3s 7ms/step - loss: 0.4999 - accuracy: 0.5000 - val_loss: 0.4998 - val_accuracy: 0.7753\n",
      "Epoch 83/100\n",
      "527/527 [==============================] - 4s 8ms/step - loss: 0.4999 - accuracy: 0.5000 - val_loss: 0.4998 - val_accuracy: 0.7753\n",
      "Epoch 84/100\n",
      "527/527 [==============================] - 3s 7ms/step - loss: 0.4999 - accuracy: 0.5000 - val_loss: 0.4998 - val_accuracy: 0.7753\n",
      "Epoch 85/100\n",
      "527/527 [==============================] - 3s 6ms/step - loss: 0.4999 - accuracy: 0.5000 - val_loss: 0.4998 - val_accuracy: 0.7753\n",
      "Epoch 86/100\n",
      "527/527 [==============================] - 4s 7ms/step - loss: 0.4999 - accuracy: 0.5000 - val_loss: 0.4998 - val_accuracy: 0.7753\n",
      "Epoch 87/100\n",
      "527/527 [==============================] - 3s 6ms/step - loss: 0.4999 - accuracy: 0.5000 - val_loss: 0.4998 - val_accuracy: 0.7753\n",
      "Epoch 88/100\n",
      "527/527 [==============================] - 3s 6ms/step - loss: 0.4999 - accuracy: 0.5000 - val_loss: 0.4998 - val_accuracy: 0.7753\n",
      "Epoch 89/100\n",
      "527/527 [==============================] - 3s 5ms/step - loss: 0.4999 - accuracy: 0.5000 - val_loss: 0.4998 - val_accuracy: 0.7753\n",
      "Epoch 90/100\n",
      "527/527 [==============================] - 3s 6ms/step - loss: 0.4999 - accuracy: 0.5000 - val_loss: 0.4998 - val_accuracy: 0.7753\n",
      "Epoch 91/100\n",
      "527/527 [==============================] - 2s 5ms/step - loss: 0.4999 - accuracy: 0.5000 - val_loss: 0.4998 - val_accuracy: 0.7753\n",
      "Epoch 92/100\n",
      "527/527 [==============================] - 3s 6ms/step - loss: 0.4999 - accuracy: 0.5000 - val_loss: 0.4998 - val_accuracy: 0.7753\n",
      "Epoch 93/100\n",
      "527/527 [==============================] - 3s 6ms/step - loss: 0.4999 - accuracy: 0.5000 - val_loss: 0.4998 - val_accuracy: 0.7753\n",
      "Epoch 94/100\n",
      "527/527 [==============================] - 3s 6ms/step - loss: 0.4999 - accuracy: 0.5000 - val_loss: 0.4998 - val_accuracy: 0.7753\n",
      "Epoch 95/100\n",
      "527/527 [==============================] - 3s 5ms/step - loss: 0.4999 - accuracy: 0.5000 - val_loss: 0.4998 - val_accuracy: 0.7753\n",
      "Epoch 96/100\n",
      "527/527 [==============================] - 3s 6ms/step - loss: 0.4999 - accuracy: 0.5000 - val_loss: 0.4998 - val_accuracy: 0.7753\n",
      "Epoch 97/100\n",
      "527/527 [==============================] - 4s 7ms/step - loss: 0.4999 - accuracy: 0.5000 - val_loss: 0.4998 - val_accuracy: 0.7753\n",
      "Epoch 98/100\n",
      "527/527 [==============================] - 3s 6ms/step - loss: 0.4999 - accuracy: 0.5000 - val_loss: 0.4998 - val_accuracy: 0.7753\n",
      "Epoch 99/100\n",
      "527/527 [==============================] - 3s 5ms/step - loss: 0.4999 - accuracy: 0.5000 - val_loss: 0.4998 - val_accuracy: 0.7753\n",
      "Epoch 100/100\n",
      "527/527 [==============================] - 3s 6ms/step - loss: 0.4999 - accuracy: 0.5000 - val_loss: 0.4998 - val_accuracy: 0.7753\n"
     ]
    }
   ],
   "source": [
    "X_train_full, X_test, y_train_full, y_test = train_test_split(\n",
    "    X, y, test_size=0.4, random_state=42)\n",
    "X_train, X_valid, y_train, y_valid = train_test_split(\n",
    "    X_train_full, y_train_full, test_size=0.4, random_state=42)\n",
    "# Aplicar sobremuestreo \n",
    "ros = RandomOverSampler(random_state=42)\n",
    "X_train_resampled, y_train_resampled = ros.fit_resample(X_train, y_train)\n",
    "import tensorflow as tf\n",
    "tf.random.set_seed(42)\n",
    "tf.keras.backend.clear_session()\n",
    "\n",
    "model = tf.keras.Sequential()\n",
    "model.add(tf.keras.layers.InputLayer(input_shape=(24,)))\n",
    "model.add(tf.keras.layers.Dense(5, activation=\"relu\"))\n",
    "model.add(tf.keras.layers.Dense(2, activation=\"sigmoid\"))  # Use sigmoid activation for binary classification\n",
    "model.compile(loss=\"MeanSquaredError\",  # Use binary cross-entropy for binary classification\n",
    "              optimizer=\"sgd\",\n",
    "              metrics=[\"accuracy\"])\n",
    "history = model.fit(X_train_resampled, y_train_resampled, epochs=100,\n",
    "                    validation_data=(X_valid, y_valid))\n",
    "\n"
   ]
  },
  {
   "cell_type": "code",
   "execution_count": 94,
   "metadata": {},
   "outputs": [
    {
     "name": "stdout",
     "output_type": "stream",
     "text": [
      "375/375 [==============================] - 2s 4ms/step - loss: 0.4999 - accuracy: 0.7797\n",
      "Test accuracy: 0.7797499895095825\n"
     ]
    }
   ],
   "source": [
    "loss, accuracy = model.evaluate(X_test, y_test)\n",
    "print(f\"Test accuracy: {accuracy}\")"
   ]
  },
  {
   "cell_type": "markdown",
   "metadata": {},
   "source": [
    "Observamos que el modelo con keras y tensorflow tiene un test accuracy de 0.02 mejor que el de sklearn \\\n",
    "Sin embargo, debemos evaluar métricas  precisión, el recall y el f1-score para tener una visión más completa de la calidad del modelo"
   ]
  },
  {
   "cell_type": "code",
   "execution_count": 98,
   "metadata": {},
   "outputs": [
    {
     "name": "stdout",
     "output_type": "stream",
     "text": [
      "375/375 [==============================] - 2s 4ms/step\n"
     ]
    },
    {
     "data": {
      "text/plain": [
       "array([[1., 0.],\n",
       "       [1., 0.],\n",
       "       [1., 0.],\n",
       "       ...,\n",
       "       [1., 0.],\n",
       "       [1., 0.],\n",
       "       [1., 0.]], dtype=float32)"
      ]
     },
     "execution_count": 98,
     "metadata": {},
     "output_type": "execute_result"
    }
   ],
   "source": [
    "model_predictions = model.predict(X_test)\n",
    "model_predictions"
   ]
  },
  {
   "cell_type": "code",
   "execution_count": 99,
   "metadata": {},
   "outputs": [],
   "source": [
    "import numpy as np\n",
    "\n",
    "model_predictions = np.where(model_predictions > 0.5, 1, 0)"
   ]
  },
  {
   "cell_type": "markdown",
   "metadata": {},
   "source": [
    "Se observa que el f1-score para la clase Y=1 es tan solo se 0.08 y el recall es de 0.05 \\\n",
    "En el modelo de sklearn estas métricas son más altas para la clase Y=1 y para la clase Y=0 también son bastante altas para un modelo de clasificación"
   ]
  },
  {
   "cell_type": "code",
   "execution_count": 104,
   "metadata": {},
   "outputs": [
    {
     "name": "stdout",
     "output_type": "stream",
     "text": [
      "Classification Report:\n",
      "               precision    recall  f1-score   support\n",
      "\n",
      "           0       0.78      0.98      0.87      9357\n",
      "           1       0.36      0.05      0.08      2643\n",
      "\n",
      "    accuracy                           0.77     12000\n",
      "   macro avg       0.57      0.51      0.48     12000\n",
      "weighted avg       0.69      0.77      0.70     12000\n",
      "\n"
     ]
    },
    {
     "name": "stderr",
     "output_type": "stream",
     "text": [
      "c:\\Users\\Admin\\AppData\\Local\\Programs\\Python\\Python311\\Lib\\site-packages\\sklearn\\base.py:486: UserWarning: X has feature names, but MLPClassifier was fitted without feature names\n",
      "  warnings.warn(\n"
     ]
    }
   ],
   "source": [
    "y_pred = mlp_clf.predict(X_test)\n",
    "class_report = classification_report(y_test, model_predictions)\n",
    "print(\"Classification Report:\\n\", class_report)"
   ]
  },
  {
   "cell_type": "markdown",
   "metadata": {},
   "source": [
    "### ¿Cuáles son las características de los clientes que más influyen para que un cliente caiga de default (Y=1)?"
   ]
  },
  {
   "cell_type": "code",
   "execution_count": 121,
   "metadata": {},
   "outputs": [
    {
     "name": "stdout",
     "output_type": "stream",
     "text": [
      "Características más importantes de clientes default (Y=1):\n",
      "SEX: 0.4050895571708679\n",
      "ID: 0.23608747124671936\n",
      "MARRIAGE: 0.1828126162290573\n",
      "LIMIT_BAL: 0.059038370847702026\n",
      "EDUCATION: -0.3418608605861664\n"
     ]
    }
   ],
   "source": [
    "import numpy as np\n",
    "feature_names = X_train_resampled.columns\n",
    "weights_input_hidden = model.layers[1].get_weights()[0]\n",
    "average_weights = np.mean(weights_input_hidden, axis=1)\n",
    "feature_weights = {feature_names[i]: weight for i, weight in enumerate(average_weights)}\n",
    "sorted_features = sorted(feature_weights.items(), key=lambda x: x[1], reverse=True)\n",
    "print(\"Características más importantes de clientes default (Y=1):\")\n",
    "for feature, weight in sorted_features:\n",
    "    print(f\"{feature}: {weight}\")\n"
   ]
  },
  {
   "cell_type": "markdown",
   "metadata": {},
   "source": [
    "Las características que más influyen para un default payment son: Sex, Marriage, limit_bal y education"
   ]
  },
  {
   "cell_type": "code",
   "execution_count": 124,
   "metadata": {},
   "outputs": [
    {
     "name": "stdout",
     "output_type": "stream",
     "text": [
      "Accuracy of Random Forest: 0.8081944444444444\n"
     ]
    }
   ],
   "source": [
    "from sklearn.ensemble import RandomForestClassifier\n",
    "\n",
    "# Define el modelo de Random Forest\n",
    "rf_model = RandomForestClassifier(n_estimators=100, random_state=42)\n",
    "\n",
    "# Entrena el modelo\n",
    "rf_model.fit(X_train_resampled, y_train_resampled)\n",
    "\n",
    "# Evalúa el modelo en el conjunto de validación\n",
    "rf_accuracy = rf_model.score(X_valid, y_valid)\n",
    "print(\"Accuracy of Random Forest:\", rf_accuracy)\n"
   ]
  },
  {
   "cell_type": "code",
   "execution_count": 125,
   "metadata": {},
   "outputs": [
    {
     "name": "stdout",
     "output_type": "stream",
     "text": [
      "      Feature  Importance\n",
      "6       PAY_0    0.089503\n",
      "0          ID    0.064960\n",
      "1   LIMIT_BAL    0.057576\n",
      "12  BILL_AMT1    0.056375\n",
      "5         AGE    0.054659\n",
      "18   PAY_AMT1    0.052636\n",
      "13  BILL_AMT2    0.049029\n",
      "19   PAY_AMT2    0.048889\n",
      "17  BILL_AMT6    0.047222\n",
      "14  BILL_AMT3    0.046585\n",
      "15  BILL_AMT4    0.045152\n",
      "23   PAY_AMT6    0.044778\n",
      "16  BILL_AMT5    0.044635\n",
      "7       PAY_2    0.044211\n",
      "20   PAY_AMT3    0.043328\n",
      "21   PAY_AMT4    0.043247\n",
      "22   PAY_AMT5    0.042654\n",
      "8       PAY_3    0.031445\n",
      "9       PAY_4    0.020575\n",
      "3   EDUCATION    0.018097\n",
      "10      PAY_5    0.017837\n",
      "11      PAY_6    0.015602\n",
      "4    MARRIAGE    0.010774\n",
      "2         SEX    0.010232\n"
     ]
    }
   ],
   "source": [
    "\n",
    "feature_importances = rf_model.feature_importances_\n",
    "\n",
    "\n",
    "feature_importances_df = pd.DataFrame({'Feature': X_train_resampled.columns, 'Importance': feature_importances})\n",
    "\n",
    "\n",
    "sorted_feature_importances = feature_importances_df.sort_values('Importance', ascending=False)\n",
    "\n",
    "print(sorted_feature_importances)\n"
   ]
  }
 ],
 "metadata": {
  "kernelspec": {
   "display_name": "Python 3",
   "language": "python",
   "name": "python3"
  },
  "language_info": {
   "codemirror_mode": {
    "name": "ipython",
    "version": 3
   },
   "file_extension": ".py",
   "mimetype": "text/x-python",
   "name": "python",
   "nbconvert_exporter": "python",
   "pygments_lexer": "ipython3",
   "version": "3.11.4"
  }
 },
 "nbformat": 4,
 "nbformat_minor": 2
}
