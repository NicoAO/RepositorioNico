{
 "cells": [
  {
   "cell_type": "code",
   "execution_count": 42,
   "metadata": {},
   "outputs": [
    {
     "name": "stdout",
     "output_type": "stream",
     "text": [
      "3227\n"
     ]
    }
   ],
   "source": [
    "import pandas as pd\n",
    "df = pd.read_csv('NASA_data_MED.csv', sep=',')\n",
    "#Filtros a dataframes\n",
    "filtered_df = df.query('PRECTOTCORR > 0.5')\n",
    "newdf = df[(df[\"YEAR\"] == 2016) & (df[\"WS10M\"] >= 1)]\n",
    "newdf.head()\n",
    "#Otro método es con df.loc\n",
    "otherdf = df.loc[(df[\"YEAR\"] == 2019) & (df[\"WS10M\"] >= 1)]\n",
    "print(len(df))\n"
   ]
  }
 ],
 "metadata": {
  "kernelspec": {
   "display_name": "Python 3",
   "language": "python",
   "name": "python3"
  },
  "language_info": {
   "codemirror_mode": {
    "name": "ipython",
    "version": 3
   },
   "file_extension": ".py",
   "mimetype": "text/x-python",
   "name": "python",
   "nbconvert_exporter": "python",
   "pygments_lexer": "ipython3",
   "version": "3.11.4"
  }
 },
 "nbformat": 4,
 "nbformat_minor": 2
}
